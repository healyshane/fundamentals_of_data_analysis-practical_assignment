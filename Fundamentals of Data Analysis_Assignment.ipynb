{
 "cells": [
  {
   "cell_type": "markdown",
   "metadata": {},
   "source": [
    "# Analysis of Anscombe's Quartet Dataset\n",
    "<div style=\"text-align: right\"> Fundamentals of Data Analysis</div>\n",
    "<div style=\"text-align: right\"> Shane Healy, OCT-2018</div>\n"
   ]
  },
  {
   "cell_type": "markdown",
   "metadata": {},
   "source": [
    "# Background\n",
    "\n",
    "The Anscombe Quartet Dataset was created by Frank Anscombe in 1973 <sup>[1](https://en.wikipedia.org/wiki/Anscombe%27s_quartet)</sup>.\n",
    "\n",
    "Frank Anscombe <sup>[2](https://en.wikipedia.org/wiki/Frank_Anscombe)</sup> was a statistician and lecturer, image shown below <sup>[3](https://en.wikipedia.org/w/index.php?curid=23138907)</sup>. \n",
    "![Frank Anscombe](https://upload.wikimedia.org/wikipedia/en/d/d5/Francis_Anscombe.jpeg)\n",
    "\n",
    "His work contributed to anaysis of residuals in linear regression which is measure of the deviation of a value from it theoretical value.\n",
    "\n",
    "His interest in statistical computing provided a rationale that computers should perform calculations, generate statistics, as well as plotting graphs. His creation of the Anscombe Quartet Dataset illustrates the importance of plotting data sets and not relying solely on descriptive statistics. "
   ]
  },
  {
   "cell_type": "markdown",
   "metadata": {},
   "source": [
    "In the Autodesk Research paper, Same Stats Different Graphs, by Justin Matejka and George Fitzmaurice <sup>[4](https://www.autodeskresearch.com/sites/default/files/SameStats-DifferentGraphs.pdf)</sup>, it states that it is not known how Anscombe came up with his datasets. To create graphs of distinctly different shapes which maintaining the same descriptive statistics, the authors describe their method as quoted below:\n",
    "\n",
    "* Generating a dataset from scratch to have particular statistical properties is relatively difficult\n",
    "* It is relatively easy to take an existing dataset, modify it slightly, and maintain (nearly) the same statistical properties. \n",
    "* With repetition, this process creates a dataset with a different visual appearance from the original, while maintaining the same statistical properties. \n",
    "* Further, if the modifications to the dataset are biased to move the points towards a particular goal, the resulting graph can be directed towards a particular visual appearance. \n",
    "\n",
    "Therefore it is assumed that Anscombe also used an iterative approach to move data points of an original data set towards the visual appearance in his four data sets while maintaining the same descriptive statistics of each."
   ]
  },
  {
   "cell_type": "markdown",
   "metadata": {},
   "source": [
    "# Plotting Dataset"
   ]
  },
  {
   "cell_type": "code",
   "execution_count": 1,
   "metadata": {},
   "outputs": [],
   "source": [
    "import pandas as pd"
   ]
  },
  {
   "cell_type": "code",
   "execution_count": 2,
   "metadata": {},
   "outputs": [],
   "source": [
    "# Read in csv file.\n",
    "df_read = pd.read_csv(\"asc_data.csv\")"
   ]
  },
  {
   "cell_type": "code",
   "execution_count": 3,
   "metadata": {},
   "outputs": [
    {
     "data": {
      "text/html": [
       "<style  type=\"text/css\" >\n",
       "    #T_070caef6_e05b_11e8_833e_f49634e512a2row0_col3 {\n",
       "            background-color:  red;\n",
       "        }    #T_070caef6_e05b_11e8_833e_f49634e512a2row0_col6 {\n",
       "            background-color:  red;\n",
       "        }    #T_070caef6_e05b_11e8_833e_f49634e512a2row0_col9 {\n",
       "            background-color:  red;\n",
       "        }    #T_070caef6_e05b_11e8_833e_f49634e512a2row1_col3 {\n",
       "            background-color:  red;\n",
       "        }    #T_070caef6_e05b_11e8_833e_f49634e512a2row1_col6 {\n",
       "            background-color:  red;\n",
       "        }    #T_070caef6_e05b_11e8_833e_f49634e512a2row1_col9 {\n",
       "            background-color:  red;\n",
       "        }    #T_070caef6_e05b_11e8_833e_f49634e512a2row2_col3 {\n",
       "            background-color:  red;\n",
       "        }    #T_070caef6_e05b_11e8_833e_f49634e512a2row2_col6 {\n",
       "            background-color:  red;\n",
       "        }    #T_070caef6_e05b_11e8_833e_f49634e512a2row2_col9 {\n",
       "            background-color:  red;\n",
       "        }    #T_070caef6_e05b_11e8_833e_f49634e512a2row3_col3 {\n",
       "            background-color:  red;\n",
       "        }    #T_070caef6_e05b_11e8_833e_f49634e512a2row3_col6 {\n",
       "            background-color:  red;\n",
       "        }    #T_070caef6_e05b_11e8_833e_f49634e512a2row3_col9 {\n",
       "            background-color:  red;\n",
       "        }    #T_070caef6_e05b_11e8_833e_f49634e512a2row4_col3 {\n",
       "            background-color:  red;\n",
       "        }    #T_070caef6_e05b_11e8_833e_f49634e512a2row4_col6 {\n",
       "            background-color:  red;\n",
       "        }    #T_070caef6_e05b_11e8_833e_f49634e512a2row4_col9 {\n",
       "            background-color:  red;\n",
       "        }    #T_070caef6_e05b_11e8_833e_f49634e512a2row5_col3 {\n",
       "            background-color:  red;\n",
       "        }    #T_070caef6_e05b_11e8_833e_f49634e512a2row5_col6 {\n",
       "            background-color:  red;\n",
       "        }    #T_070caef6_e05b_11e8_833e_f49634e512a2row5_col9 {\n",
       "            background-color:  red;\n",
       "        }    #T_070caef6_e05b_11e8_833e_f49634e512a2row6_col3 {\n",
       "            background-color:  red;\n",
       "        }    #T_070caef6_e05b_11e8_833e_f49634e512a2row6_col6 {\n",
       "            background-color:  red;\n",
       "        }    #T_070caef6_e05b_11e8_833e_f49634e512a2row6_col9 {\n",
       "            background-color:  red;\n",
       "        }    #T_070caef6_e05b_11e8_833e_f49634e512a2row7_col3 {\n",
       "            background-color:  red;\n",
       "        }    #T_070caef6_e05b_11e8_833e_f49634e512a2row7_col6 {\n",
       "            background-color:  red;\n",
       "        }    #T_070caef6_e05b_11e8_833e_f49634e512a2row7_col9 {\n",
       "            background-color:  red;\n",
       "        }    #T_070caef6_e05b_11e8_833e_f49634e512a2row8_col3 {\n",
       "            background-color:  red;\n",
       "        }    #T_070caef6_e05b_11e8_833e_f49634e512a2row8_col6 {\n",
       "            background-color:  red;\n",
       "        }    #T_070caef6_e05b_11e8_833e_f49634e512a2row8_col9 {\n",
       "            background-color:  red;\n",
       "        }    #T_070caef6_e05b_11e8_833e_f49634e512a2row9_col3 {\n",
       "            background-color:  red;\n",
       "        }    #T_070caef6_e05b_11e8_833e_f49634e512a2row9_col6 {\n",
       "            background-color:  red;\n",
       "        }    #T_070caef6_e05b_11e8_833e_f49634e512a2row9_col9 {\n",
       "            background-color:  red;\n",
       "        }    #T_070caef6_e05b_11e8_833e_f49634e512a2row10_col3 {\n",
       "            background-color:  red;\n",
       "        }    #T_070caef6_e05b_11e8_833e_f49634e512a2row10_col6 {\n",
       "            background-color:  red;\n",
       "        }    #T_070caef6_e05b_11e8_833e_f49634e512a2row10_col9 {\n",
       "            background-color:  red;\n",
       "        }</style>  \n",
       "<table id=\"T_070caef6_e05b_11e8_833e_f49634e512a2\" > \n",
       "<thead>    <tr> \n",
       "        <th class=\"blank level0\" ></th> \n",
       "        <th class=\"col_heading level0 col0\" >Observation</th> \n",
       "        <th class=\"col_heading level0 col1\" >x1</th> \n",
       "        <th class=\"col_heading level0 col2\" >y1</th> \n",
       "        <th class=\"col_heading level0 col3\" >Unnamed: 3</th> \n",
       "        <th class=\"col_heading level0 col4\" >x2</th> \n",
       "        <th class=\"col_heading level0 col5\" >y2</th> \n",
       "        <th class=\"col_heading level0 col6\" >Unnamed: 6</th> \n",
       "        <th class=\"col_heading level0 col7\" >x3</th> \n",
       "        <th class=\"col_heading level0 col8\" >y3</th> \n",
       "        <th class=\"col_heading level0 col9\" >Unnamed: 9</th> \n",
       "        <th class=\"col_heading level0 col10\" >x4</th> \n",
       "        <th class=\"col_heading level0 col11\" >y4</th> \n",
       "    </tr></thead> \n",
       "<tbody>    <tr> \n",
       "        <th id=\"T_070caef6_e05b_11e8_833e_f49634e512a2level0_row0\" class=\"row_heading level0 row0\" >0</th> \n",
       "        <td id=\"T_070caef6_e05b_11e8_833e_f49634e512a2row0_col0\" class=\"data row0 col0\" >1</td> \n",
       "        <td id=\"T_070caef6_e05b_11e8_833e_f49634e512a2row0_col1\" class=\"data row0 col1\" >10</td> \n",
       "        <td id=\"T_070caef6_e05b_11e8_833e_f49634e512a2row0_col2\" class=\"data row0 col2\" >8.04</td> \n",
       "        <td id=\"T_070caef6_e05b_11e8_833e_f49634e512a2row0_col3\" class=\"data row0 col3\" >nan</td> \n",
       "        <td id=\"T_070caef6_e05b_11e8_833e_f49634e512a2row0_col4\" class=\"data row0 col4\" >10</td> \n",
       "        <td id=\"T_070caef6_e05b_11e8_833e_f49634e512a2row0_col5\" class=\"data row0 col5\" >9.14</td> \n",
       "        <td id=\"T_070caef6_e05b_11e8_833e_f49634e512a2row0_col6\" class=\"data row0 col6\" >nan</td> \n",
       "        <td id=\"T_070caef6_e05b_11e8_833e_f49634e512a2row0_col7\" class=\"data row0 col7\" >10</td> \n",
       "        <td id=\"T_070caef6_e05b_11e8_833e_f49634e512a2row0_col8\" class=\"data row0 col8\" >7.46</td> \n",
       "        <td id=\"T_070caef6_e05b_11e8_833e_f49634e512a2row0_col9\" class=\"data row0 col9\" >nan</td> \n",
       "        <td id=\"T_070caef6_e05b_11e8_833e_f49634e512a2row0_col10\" class=\"data row0 col10\" >8</td> \n",
       "        <td id=\"T_070caef6_e05b_11e8_833e_f49634e512a2row0_col11\" class=\"data row0 col11\" >6.58</td> \n",
       "    </tr>    <tr> \n",
       "        <th id=\"T_070caef6_e05b_11e8_833e_f49634e512a2level0_row1\" class=\"row_heading level0 row1\" >1</th> \n",
       "        <td id=\"T_070caef6_e05b_11e8_833e_f49634e512a2row1_col0\" class=\"data row1 col0\" >2</td> \n",
       "        <td id=\"T_070caef6_e05b_11e8_833e_f49634e512a2row1_col1\" class=\"data row1 col1\" >8</td> \n",
       "        <td id=\"T_070caef6_e05b_11e8_833e_f49634e512a2row1_col2\" class=\"data row1 col2\" >6.95</td> \n",
       "        <td id=\"T_070caef6_e05b_11e8_833e_f49634e512a2row1_col3\" class=\"data row1 col3\" >nan</td> \n",
       "        <td id=\"T_070caef6_e05b_11e8_833e_f49634e512a2row1_col4\" class=\"data row1 col4\" >8</td> \n",
       "        <td id=\"T_070caef6_e05b_11e8_833e_f49634e512a2row1_col5\" class=\"data row1 col5\" >8.14</td> \n",
       "        <td id=\"T_070caef6_e05b_11e8_833e_f49634e512a2row1_col6\" class=\"data row1 col6\" >nan</td> \n",
       "        <td id=\"T_070caef6_e05b_11e8_833e_f49634e512a2row1_col7\" class=\"data row1 col7\" >8</td> \n",
       "        <td id=\"T_070caef6_e05b_11e8_833e_f49634e512a2row1_col8\" class=\"data row1 col8\" >6.77</td> \n",
       "        <td id=\"T_070caef6_e05b_11e8_833e_f49634e512a2row1_col9\" class=\"data row1 col9\" >nan</td> \n",
       "        <td id=\"T_070caef6_e05b_11e8_833e_f49634e512a2row1_col10\" class=\"data row1 col10\" >8</td> \n",
       "        <td id=\"T_070caef6_e05b_11e8_833e_f49634e512a2row1_col11\" class=\"data row1 col11\" >5.76</td> \n",
       "    </tr>    <tr> \n",
       "        <th id=\"T_070caef6_e05b_11e8_833e_f49634e512a2level0_row2\" class=\"row_heading level0 row2\" >2</th> \n",
       "        <td id=\"T_070caef6_e05b_11e8_833e_f49634e512a2row2_col0\" class=\"data row2 col0\" >3</td> \n",
       "        <td id=\"T_070caef6_e05b_11e8_833e_f49634e512a2row2_col1\" class=\"data row2 col1\" >13</td> \n",
       "        <td id=\"T_070caef6_e05b_11e8_833e_f49634e512a2row2_col2\" class=\"data row2 col2\" >7.58</td> \n",
       "        <td id=\"T_070caef6_e05b_11e8_833e_f49634e512a2row2_col3\" class=\"data row2 col3\" >nan</td> \n",
       "        <td id=\"T_070caef6_e05b_11e8_833e_f49634e512a2row2_col4\" class=\"data row2 col4\" >13</td> \n",
       "        <td id=\"T_070caef6_e05b_11e8_833e_f49634e512a2row2_col5\" class=\"data row2 col5\" >8.74</td> \n",
       "        <td id=\"T_070caef6_e05b_11e8_833e_f49634e512a2row2_col6\" class=\"data row2 col6\" >nan</td> \n",
       "        <td id=\"T_070caef6_e05b_11e8_833e_f49634e512a2row2_col7\" class=\"data row2 col7\" >13</td> \n",
       "        <td id=\"T_070caef6_e05b_11e8_833e_f49634e512a2row2_col8\" class=\"data row2 col8\" >12.74</td> \n",
       "        <td id=\"T_070caef6_e05b_11e8_833e_f49634e512a2row2_col9\" class=\"data row2 col9\" >nan</td> \n",
       "        <td id=\"T_070caef6_e05b_11e8_833e_f49634e512a2row2_col10\" class=\"data row2 col10\" >8</td> \n",
       "        <td id=\"T_070caef6_e05b_11e8_833e_f49634e512a2row2_col11\" class=\"data row2 col11\" >7.71</td> \n",
       "    </tr>    <tr> \n",
       "        <th id=\"T_070caef6_e05b_11e8_833e_f49634e512a2level0_row3\" class=\"row_heading level0 row3\" >3</th> \n",
       "        <td id=\"T_070caef6_e05b_11e8_833e_f49634e512a2row3_col0\" class=\"data row3 col0\" >4</td> \n",
       "        <td id=\"T_070caef6_e05b_11e8_833e_f49634e512a2row3_col1\" class=\"data row3 col1\" >9</td> \n",
       "        <td id=\"T_070caef6_e05b_11e8_833e_f49634e512a2row3_col2\" class=\"data row3 col2\" >8.81</td> \n",
       "        <td id=\"T_070caef6_e05b_11e8_833e_f49634e512a2row3_col3\" class=\"data row3 col3\" >nan</td> \n",
       "        <td id=\"T_070caef6_e05b_11e8_833e_f49634e512a2row3_col4\" class=\"data row3 col4\" >9</td> \n",
       "        <td id=\"T_070caef6_e05b_11e8_833e_f49634e512a2row3_col5\" class=\"data row3 col5\" >8.77</td> \n",
       "        <td id=\"T_070caef6_e05b_11e8_833e_f49634e512a2row3_col6\" class=\"data row3 col6\" >nan</td> \n",
       "        <td id=\"T_070caef6_e05b_11e8_833e_f49634e512a2row3_col7\" class=\"data row3 col7\" >9</td> \n",
       "        <td id=\"T_070caef6_e05b_11e8_833e_f49634e512a2row3_col8\" class=\"data row3 col8\" >7.11</td> \n",
       "        <td id=\"T_070caef6_e05b_11e8_833e_f49634e512a2row3_col9\" class=\"data row3 col9\" >nan</td> \n",
       "        <td id=\"T_070caef6_e05b_11e8_833e_f49634e512a2row3_col10\" class=\"data row3 col10\" >8</td> \n",
       "        <td id=\"T_070caef6_e05b_11e8_833e_f49634e512a2row3_col11\" class=\"data row3 col11\" >8.84</td> \n",
       "    </tr>    <tr> \n",
       "        <th id=\"T_070caef6_e05b_11e8_833e_f49634e512a2level0_row4\" class=\"row_heading level0 row4\" >4</th> \n",
       "        <td id=\"T_070caef6_e05b_11e8_833e_f49634e512a2row4_col0\" class=\"data row4 col0\" >5</td> \n",
       "        <td id=\"T_070caef6_e05b_11e8_833e_f49634e512a2row4_col1\" class=\"data row4 col1\" >11</td> \n",
       "        <td id=\"T_070caef6_e05b_11e8_833e_f49634e512a2row4_col2\" class=\"data row4 col2\" >8.33</td> \n",
       "        <td id=\"T_070caef6_e05b_11e8_833e_f49634e512a2row4_col3\" class=\"data row4 col3\" >nan</td> \n",
       "        <td id=\"T_070caef6_e05b_11e8_833e_f49634e512a2row4_col4\" class=\"data row4 col4\" >11</td> \n",
       "        <td id=\"T_070caef6_e05b_11e8_833e_f49634e512a2row4_col5\" class=\"data row4 col5\" >9.26</td> \n",
       "        <td id=\"T_070caef6_e05b_11e8_833e_f49634e512a2row4_col6\" class=\"data row4 col6\" >nan</td> \n",
       "        <td id=\"T_070caef6_e05b_11e8_833e_f49634e512a2row4_col7\" class=\"data row4 col7\" >11</td> \n",
       "        <td id=\"T_070caef6_e05b_11e8_833e_f49634e512a2row4_col8\" class=\"data row4 col8\" >7.81</td> \n",
       "        <td id=\"T_070caef6_e05b_11e8_833e_f49634e512a2row4_col9\" class=\"data row4 col9\" >nan</td> \n",
       "        <td id=\"T_070caef6_e05b_11e8_833e_f49634e512a2row4_col10\" class=\"data row4 col10\" >8</td> \n",
       "        <td id=\"T_070caef6_e05b_11e8_833e_f49634e512a2row4_col11\" class=\"data row4 col11\" >8.47</td> \n",
       "    </tr>    <tr> \n",
       "        <th id=\"T_070caef6_e05b_11e8_833e_f49634e512a2level0_row5\" class=\"row_heading level0 row5\" >5</th> \n",
       "        <td id=\"T_070caef6_e05b_11e8_833e_f49634e512a2row5_col0\" class=\"data row5 col0\" >6</td> \n",
       "        <td id=\"T_070caef6_e05b_11e8_833e_f49634e512a2row5_col1\" class=\"data row5 col1\" >14</td> \n",
       "        <td id=\"T_070caef6_e05b_11e8_833e_f49634e512a2row5_col2\" class=\"data row5 col2\" >9.96</td> \n",
       "        <td id=\"T_070caef6_e05b_11e8_833e_f49634e512a2row5_col3\" class=\"data row5 col3\" >nan</td> \n",
       "        <td id=\"T_070caef6_e05b_11e8_833e_f49634e512a2row5_col4\" class=\"data row5 col4\" >14</td> \n",
       "        <td id=\"T_070caef6_e05b_11e8_833e_f49634e512a2row5_col5\" class=\"data row5 col5\" >8.1</td> \n",
       "        <td id=\"T_070caef6_e05b_11e8_833e_f49634e512a2row5_col6\" class=\"data row5 col6\" >nan</td> \n",
       "        <td id=\"T_070caef6_e05b_11e8_833e_f49634e512a2row5_col7\" class=\"data row5 col7\" >14</td> \n",
       "        <td id=\"T_070caef6_e05b_11e8_833e_f49634e512a2row5_col8\" class=\"data row5 col8\" >8.84</td> \n",
       "        <td id=\"T_070caef6_e05b_11e8_833e_f49634e512a2row5_col9\" class=\"data row5 col9\" >nan</td> \n",
       "        <td id=\"T_070caef6_e05b_11e8_833e_f49634e512a2row5_col10\" class=\"data row5 col10\" >8</td> \n",
       "        <td id=\"T_070caef6_e05b_11e8_833e_f49634e512a2row5_col11\" class=\"data row5 col11\" >7.04</td> \n",
       "    </tr>    <tr> \n",
       "        <th id=\"T_070caef6_e05b_11e8_833e_f49634e512a2level0_row6\" class=\"row_heading level0 row6\" >6</th> \n",
       "        <td id=\"T_070caef6_e05b_11e8_833e_f49634e512a2row6_col0\" class=\"data row6 col0\" >7</td> \n",
       "        <td id=\"T_070caef6_e05b_11e8_833e_f49634e512a2row6_col1\" class=\"data row6 col1\" >6</td> \n",
       "        <td id=\"T_070caef6_e05b_11e8_833e_f49634e512a2row6_col2\" class=\"data row6 col2\" >7.24</td> \n",
       "        <td id=\"T_070caef6_e05b_11e8_833e_f49634e512a2row6_col3\" class=\"data row6 col3\" >nan</td> \n",
       "        <td id=\"T_070caef6_e05b_11e8_833e_f49634e512a2row6_col4\" class=\"data row6 col4\" >6</td> \n",
       "        <td id=\"T_070caef6_e05b_11e8_833e_f49634e512a2row6_col5\" class=\"data row6 col5\" >6.13</td> \n",
       "        <td id=\"T_070caef6_e05b_11e8_833e_f49634e512a2row6_col6\" class=\"data row6 col6\" >nan</td> \n",
       "        <td id=\"T_070caef6_e05b_11e8_833e_f49634e512a2row6_col7\" class=\"data row6 col7\" >6</td> \n",
       "        <td id=\"T_070caef6_e05b_11e8_833e_f49634e512a2row6_col8\" class=\"data row6 col8\" >6.08</td> \n",
       "        <td id=\"T_070caef6_e05b_11e8_833e_f49634e512a2row6_col9\" class=\"data row6 col9\" >nan</td> \n",
       "        <td id=\"T_070caef6_e05b_11e8_833e_f49634e512a2row6_col10\" class=\"data row6 col10\" >8</td> \n",
       "        <td id=\"T_070caef6_e05b_11e8_833e_f49634e512a2row6_col11\" class=\"data row6 col11\" >5.25</td> \n",
       "    </tr>    <tr> \n",
       "        <th id=\"T_070caef6_e05b_11e8_833e_f49634e512a2level0_row7\" class=\"row_heading level0 row7\" >7</th> \n",
       "        <td id=\"T_070caef6_e05b_11e8_833e_f49634e512a2row7_col0\" class=\"data row7 col0\" >8</td> \n",
       "        <td id=\"T_070caef6_e05b_11e8_833e_f49634e512a2row7_col1\" class=\"data row7 col1\" >4</td> \n",
       "        <td id=\"T_070caef6_e05b_11e8_833e_f49634e512a2row7_col2\" class=\"data row7 col2\" >4.26</td> \n",
       "        <td id=\"T_070caef6_e05b_11e8_833e_f49634e512a2row7_col3\" class=\"data row7 col3\" >nan</td> \n",
       "        <td id=\"T_070caef6_e05b_11e8_833e_f49634e512a2row7_col4\" class=\"data row7 col4\" >4</td> \n",
       "        <td id=\"T_070caef6_e05b_11e8_833e_f49634e512a2row7_col5\" class=\"data row7 col5\" >3.1</td> \n",
       "        <td id=\"T_070caef6_e05b_11e8_833e_f49634e512a2row7_col6\" class=\"data row7 col6\" >nan</td> \n",
       "        <td id=\"T_070caef6_e05b_11e8_833e_f49634e512a2row7_col7\" class=\"data row7 col7\" >4</td> \n",
       "        <td id=\"T_070caef6_e05b_11e8_833e_f49634e512a2row7_col8\" class=\"data row7 col8\" >5.39</td> \n",
       "        <td id=\"T_070caef6_e05b_11e8_833e_f49634e512a2row7_col9\" class=\"data row7 col9\" >nan</td> \n",
       "        <td id=\"T_070caef6_e05b_11e8_833e_f49634e512a2row7_col10\" class=\"data row7 col10\" >19</td> \n",
       "        <td id=\"T_070caef6_e05b_11e8_833e_f49634e512a2row7_col11\" class=\"data row7 col11\" >12.5</td> \n",
       "    </tr>    <tr> \n",
       "        <th id=\"T_070caef6_e05b_11e8_833e_f49634e512a2level0_row8\" class=\"row_heading level0 row8\" >8</th> \n",
       "        <td id=\"T_070caef6_e05b_11e8_833e_f49634e512a2row8_col0\" class=\"data row8 col0\" >9</td> \n",
       "        <td id=\"T_070caef6_e05b_11e8_833e_f49634e512a2row8_col1\" class=\"data row8 col1\" >12</td> \n",
       "        <td id=\"T_070caef6_e05b_11e8_833e_f49634e512a2row8_col2\" class=\"data row8 col2\" >10.84</td> \n",
       "        <td id=\"T_070caef6_e05b_11e8_833e_f49634e512a2row8_col3\" class=\"data row8 col3\" >nan</td> \n",
       "        <td id=\"T_070caef6_e05b_11e8_833e_f49634e512a2row8_col4\" class=\"data row8 col4\" >12</td> \n",
       "        <td id=\"T_070caef6_e05b_11e8_833e_f49634e512a2row8_col5\" class=\"data row8 col5\" >9.13</td> \n",
       "        <td id=\"T_070caef6_e05b_11e8_833e_f49634e512a2row8_col6\" class=\"data row8 col6\" >nan</td> \n",
       "        <td id=\"T_070caef6_e05b_11e8_833e_f49634e512a2row8_col7\" class=\"data row8 col7\" >12</td> \n",
       "        <td id=\"T_070caef6_e05b_11e8_833e_f49634e512a2row8_col8\" class=\"data row8 col8\" >8.15</td> \n",
       "        <td id=\"T_070caef6_e05b_11e8_833e_f49634e512a2row8_col9\" class=\"data row8 col9\" >nan</td> \n",
       "        <td id=\"T_070caef6_e05b_11e8_833e_f49634e512a2row8_col10\" class=\"data row8 col10\" >8</td> \n",
       "        <td id=\"T_070caef6_e05b_11e8_833e_f49634e512a2row8_col11\" class=\"data row8 col11\" >5.56</td> \n",
       "    </tr>    <tr> \n",
       "        <th id=\"T_070caef6_e05b_11e8_833e_f49634e512a2level0_row9\" class=\"row_heading level0 row9\" >9</th> \n",
       "        <td id=\"T_070caef6_e05b_11e8_833e_f49634e512a2row9_col0\" class=\"data row9 col0\" >10</td> \n",
       "        <td id=\"T_070caef6_e05b_11e8_833e_f49634e512a2row9_col1\" class=\"data row9 col1\" >7</td> \n",
       "        <td id=\"T_070caef6_e05b_11e8_833e_f49634e512a2row9_col2\" class=\"data row9 col2\" >4.82</td> \n",
       "        <td id=\"T_070caef6_e05b_11e8_833e_f49634e512a2row9_col3\" class=\"data row9 col3\" >nan</td> \n",
       "        <td id=\"T_070caef6_e05b_11e8_833e_f49634e512a2row9_col4\" class=\"data row9 col4\" >7</td> \n",
       "        <td id=\"T_070caef6_e05b_11e8_833e_f49634e512a2row9_col5\" class=\"data row9 col5\" >7.26</td> \n",
       "        <td id=\"T_070caef6_e05b_11e8_833e_f49634e512a2row9_col6\" class=\"data row9 col6\" >nan</td> \n",
       "        <td id=\"T_070caef6_e05b_11e8_833e_f49634e512a2row9_col7\" class=\"data row9 col7\" >7</td> \n",
       "        <td id=\"T_070caef6_e05b_11e8_833e_f49634e512a2row9_col8\" class=\"data row9 col8\" >6.42</td> \n",
       "        <td id=\"T_070caef6_e05b_11e8_833e_f49634e512a2row9_col9\" class=\"data row9 col9\" >nan</td> \n",
       "        <td id=\"T_070caef6_e05b_11e8_833e_f49634e512a2row9_col10\" class=\"data row9 col10\" >8</td> \n",
       "        <td id=\"T_070caef6_e05b_11e8_833e_f49634e512a2row9_col11\" class=\"data row9 col11\" >7.91</td> \n",
       "    </tr>    <tr> \n",
       "        <th id=\"T_070caef6_e05b_11e8_833e_f49634e512a2level0_row10\" class=\"row_heading level0 row10\" >10</th> \n",
       "        <td id=\"T_070caef6_e05b_11e8_833e_f49634e512a2row10_col0\" class=\"data row10 col0\" >11</td> \n",
       "        <td id=\"T_070caef6_e05b_11e8_833e_f49634e512a2row10_col1\" class=\"data row10 col1\" >5</td> \n",
       "        <td id=\"T_070caef6_e05b_11e8_833e_f49634e512a2row10_col2\" class=\"data row10 col2\" >5.68</td> \n",
       "        <td id=\"T_070caef6_e05b_11e8_833e_f49634e512a2row10_col3\" class=\"data row10 col3\" >nan</td> \n",
       "        <td id=\"T_070caef6_e05b_11e8_833e_f49634e512a2row10_col4\" class=\"data row10 col4\" >5</td> \n",
       "        <td id=\"T_070caef6_e05b_11e8_833e_f49634e512a2row10_col5\" class=\"data row10 col5\" >4.74</td> \n",
       "        <td id=\"T_070caef6_e05b_11e8_833e_f49634e512a2row10_col6\" class=\"data row10 col6\" >nan</td> \n",
       "        <td id=\"T_070caef6_e05b_11e8_833e_f49634e512a2row10_col7\" class=\"data row10 col7\" >5</td> \n",
       "        <td id=\"T_070caef6_e05b_11e8_833e_f49634e512a2row10_col8\" class=\"data row10 col8\" >5.73</td> \n",
       "        <td id=\"T_070caef6_e05b_11e8_833e_f49634e512a2row10_col9\" class=\"data row10 col9\" >nan</td> \n",
       "        <td id=\"T_070caef6_e05b_11e8_833e_f49634e512a2row10_col10\" class=\"data row10 col10\" >8</td> \n",
       "        <td id=\"T_070caef6_e05b_11e8_833e_f49634e512a2row10_col11\" class=\"data row10 col11\" >6.89</td> \n",
       "    </tr></tbody> \n",
       "</table> "
      ],
      "text/plain": [
       "<pandas.io.formats.style.Styler at 0x26e7745d630>"
      ]
     },
     "execution_count": 3,
     "metadata": {},
     "output_type": "execute_result"
    }
   ],
   "source": [
    "# Pandas styling used to highlight null values in dataset\n",
    "df_read.style.highlight_null(null_color='red')"
   ]
  },
  {
   "cell_type": "markdown",
   "metadata": {},
   "source": [
    "Anscombe data set was downloaded from Wabash College website,<sup> [5](http://www3.wabash.edu/econometrics/econometricsbook/Chapters/Ch05InterpretingRegression/ExcelFiles/Anscombe.xls)</sup>, and saved as asc_data.csv. \n",
    "\n",
    "Pandas styling <sup>[6](http://pandas.pydata.org/pandas-docs/stable/style.html)</sup> highlighted empty or null values. These null values will be dropped to clean the dataframe for future use. "
   ]
  },
  {
   "cell_type": "code",
   "execution_count": 4,
   "metadata": {},
   "outputs": [
    {
     "data": {
      "text/html": [
       "<div>\n",
       "<style scoped>\n",
       "    .dataframe tbody tr th:only-of-type {\n",
       "        vertical-align: middle;\n",
       "    }\n",
       "\n",
       "    .dataframe tbody tr th {\n",
       "        vertical-align: top;\n",
       "    }\n",
       "\n",
       "    .dataframe thead th {\n",
       "        text-align: right;\n",
       "    }\n",
       "</style>\n",
       "<table border=\"1\" class=\"dataframe\">\n",
       "  <thead>\n",
       "    <tr style=\"text-align: right;\">\n",
       "      <th></th>\n",
       "      <th>x1</th>\n",
       "      <th>y1</th>\n",
       "      <th>x2</th>\n",
       "      <th>y2</th>\n",
       "      <th>x3</th>\n",
       "      <th>y3</th>\n",
       "      <th>x4</th>\n",
       "      <th>y4</th>\n",
       "    </tr>\n",
       "  </thead>\n",
       "  <tbody>\n",
       "    <tr>\n",
       "      <th>0</th>\n",
       "      <td>10</td>\n",
       "      <td>8.04</td>\n",
       "      <td>10</td>\n",
       "      <td>9.14</td>\n",
       "      <td>10</td>\n",
       "      <td>7.46</td>\n",
       "      <td>8</td>\n",
       "      <td>6.58</td>\n",
       "    </tr>\n",
       "    <tr>\n",
       "      <th>1</th>\n",
       "      <td>8</td>\n",
       "      <td>6.95</td>\n",
       "      <td>8</td>\n",
       "      <td>8.14</td>\n",
       "      <td>8</td>\n",
       "      <td>6.77</td>\n",
       "      <td>8</td>\n",
       "      <td>5.76</td>\n",
       "    </tr>\n",
       "    <tr>\n",
       "      <th>2</th>\n",
       "      <td>13</td>\n",
       "      <td>7.58</td>\n",
       "      <td>13</td>\n",
       "      <td>8.74</td>\n",
       "      <td>13</td>\n",
       "      <td>12.74</td>\n",
       "      <td>8</td>\n",
       "      <td>7.71</td>\n",
       "    </tr>\n",
       "    <tr>\n",
       "      <th>3</th>\n",
       "      <td>9</td>\n",
       "      <td>8.81</td>\n",
       "      <td>9</td>\n",
       "      <td>8.77</td>\n",
       "      <td>9</td>\n",
       "      <td>7.11</td>\n",
       "      <td>8</td>\n",
       "      <td>8.84</td>\n",
       "    </tr>\n",
       "    <tr>\n",
       "      <th>4</th>\n",
       "      <td>11</td>\n",
       "      <td>8.33</td>\n",
       "      <td>11</td>\n",
       "      <td>9.26</td>\n",
       "      <td>11</td>\n",
       "      <td>7.81</td>\n",
       "      <td>8</td>\n",
       "      <td>8.47</td>\n",
       "    </tr>\n",
       "    <tr>\n",
       "      <th>5</th>\n",
       "      <td>14</td>\n",
       "      <td>9.96</td>\n",
       "      <td>14</td>\n",
       "      <td>8.10</td>\n",
       "      <td>14</td>\n",
       "      <td>8.84</td>\n",
       "      <td>8</td>\n",
       "      <td>7.04</td>\n",
       "    </tr>\n",
       "    <tr>\n",
       "      <th>6</th>\n",
       "      <td>6</td>\n",
       "      <td>7.24</td>\n",
       "      <td>6</td>\n",
       "      <td>6.13</td>\n",
       "      <td>6</td>\n",
       "      <td>6.08</td>\n",
       "      <td>8</td>\n",
       "      <td>5.25</td>\n",
       "    </tr>\n",
       "    <tr>\n",
       "      <th>7</th>\n",
       "      <td>4</td>\n",
       "      <td>4.26</td>\n",
       "      <td>4</td>\n",
       "      <td>3.10</td>\n",
       "      <td>4</td>\n",
       "      <td>5.39</td>\n",
       "      <td>19</td>\n",
       "      <td>12.50</td>\n",
       "    </tr>\n",
       "    <tr>\n",
       "      <th>8</th>\n",
       "      <td>12</td>\n",
       "      <td>10.84</td>\n",
       "      <td>12</td>\n",
       "      <td>9.13</td>\n",
       "      <td>12</td>\n",
       "      <td>8.15</td>\n",
       "      <td>8</td>\n",
       "      <td>5.56</td>\n",
       "    </tr>\n",
       "    <tr>\n",
       "      <th>9</th>\n",
       "      <td>7</td>\n",
       "      <td>4.82</td>\n",
       "      <td>7</td>\n",
       "      <td>7.26</td>\n",
       "      <td>7</td>\n",
       "      <td>6.42</td>\n",
       "      <td>8</td>\n",
       "      <td>7.91</td>\n",
       "    </tr>\n",
       "    <tr>\n",
       "      <th>10</th>\n",
       "      <td>5</td>\n",
       "      <td>5.68</td>\n",
       "      <td>5</td>\n",
       "      <td>4.74</td>\n",
       "      <td>5</td>\n",
       "      <td>5.73</td>\n",
       "      <td>8</td>\n",
       "      <td>6.89</td>\n",
       "    </tr>\n",
       "  </tbody>\n",
       "</table>\n",
       "</div>"
      ],
      "text/plain": [
       "    x1     y1  x2    y2  x3     y3  x4     y4\n",
       "0   10   8.04  10  9.14  10   7.46   8   6.58\n",
       "1    8   6.95   8  8.14   8   6.77   8   5.76\n",
       "2   13   7.58  13  8.74  13  12.74   8   7.71\n",
       "3    9   8.81   9  8.77   9   7.11   8   8.84\n",
       "4   11   8.33  11  9.26  11   7.81   8   8.47\n",
       "5   14   9.96  14  8.10  14   8.84   8   7.04\n",
       "6    6   7.24   6  6.13   6   6.08   8   5.25\n",
       "7    4   4.26   4  3.10   4   5.39  19  12.50\n",
       "8   12  10.84  12  9.13  12   8.15   8   5.56\n",
       "9    7   4.82   7  7.26   7   6.42   8   7.91\n",
       "10   5   5.68   5  4.74   5   5.73   8   6.89"
      ]
     },
     "execution_count": 4,
     "metadata": {},
     "output_type": "execute_result"
    }
   ],
   "source": [
    "# Using Pandas to drop unwanted columns\n",
    "df = df_read.drop(columns=['Unnamed: 3', 'Unnamed: 6', 'Unnamed: 9', 'Observation'])\n",
    "df"
   ]
  },
  {
   "cell_type": "markdown",
   "metadata": {},
   "source": [
    "To visualise the data, Pandas plotting is used. "
   ]
  },
  {
   "cell_type": "code",
   "execution_count": 5,
   "metadata": {},
   "outputs": [
    {
     "data": {
      "text/plain": [
       "<matplotlib.axes._subplots.AxesSubplot at 0x26e7cf85a90>"
      ]
     },
     "execution_count": 5,
     "metadata": {},
     "output_type": "execute_result"
    },
    {
     "data": {
      "image/png": "[encoded data removed]",
      "text/plain": [
       "<Figure size 432x288 with 1 Axes>"
      ]
     },
     "metadata": {
      "needs_background": "light"
     },
     "output_type": "display_data"
    },
    {
     "data": {
      "image/png": "[encoded data removed]",
      "text/plain": [
       "<Figure size 432x288 with 1 Axes>"
      ]
     },
     "metadata": {
      "needs_background": "light"
     },
     "output_type": "display_data"
    },
    {
     "data": {
      "image/png": "[encoded data removed]",
      "text/plain": [
       "<Figure size 432x288 with 1 Axes>"
      ]
     },
     "metadata": {
      "needs_background": "light"
     },
     "output_type": "display_data"
    },
    {
     "data": {
      "image/png": "[encoded data removed]",
      "text/plain": [
       "<Figure size 432x288 with 1 Axes>"
      ]
     },
     "metadata": {
      "needs_background": "light"
     },
     "output_type": "display_data"
    }
   ],
   "source": [
    "# Plots of x and y values as scatter plots.\n",
    "df.plot(kind='scatter',x='x1',y='y1',color='red', title=\"Scatter Plot of x1 and y1\",grid=True)\n",
    "df.plot(kind='scatter',x='x2',y='y2',color='blue', title=\"Scatter Plot of x2 and y2\",grid=True)\n",
    "df.plot(kind='scatter',x='x3',y='y3',color='green', title=\"Scatter Plot of x3 and y3\",grid=True)\n",
    "df.plot(kind='scatter',x='x4',y='y4',color='magenta', title=\"Scatter Plot of x4 and y4\",grid=True)\n"
   ]
  },
  {
   "cell_type": "markdown",
   "metadata": {},
   "source": [
    "# Descriptive Statistics"
   ]
  },
  {
   "cell_type": "code",
   "execution_count": 6,
   "metadata": {},
   "outputs": [
    {
     "data": {
      "text/html": [
       "<style  type=\"text/css\" >\n",
       "    #T_36a30946_e05b_11e8_8484_f49634e512a2row0_col0 {\n",
       "            text-align:  right;\n",
       "        }    #T_36a30946_e05b_11e8_8484_f49634e512a2row0_col1 {\n",
       "            text-align:  right;\n",
       "        }    #T_36a30946_e05b_11e8_8484_f49634e512a2row0_col2 {\n",
       "            text-align:  right;\n",
       "        }    #T_36a30946_e05b_11e8_8484_f49634e512a2row0_col3 {\n",
       "            text-align:  right;\n",
       "        }    #T_36a30946_e05b_11e8_8484_f49634e512a2row0_col4 {\n",
       "            text-align:  right;\n",
       "        }    #T_36a30946_e05b_11e8_8484_f49634e512a2row0_col5 {\n",
       "            text-align:  right;\n",
       "        }    #T_36a30946_e05b_11e8_8484_f49634e512a2row0_col6 {\n",
       "            text-align:  right;\n",
       "        }    #T_36a30946_e05b_11e8_8484_f49634e512a2row0_col7 {\n",
       "            text-align:  right;\n",
       "        }    #T_36a30946_e05b_11e8_8484_f49634e512a2row1_col0 {\n",
       "            text-align:  right;\n",
       "        }    #T_36a30946_e05b_11e8_8484_f49634e512a2row1_col1 {\n",
       "            text-align:  right;\n",
       "        }    #T_36a30946_e05b_11e8_8484_f49634e512a2row1_col2 {\n",
       "            text-align:  right;\n",
       "        }    #T_36a30946_e05b_11e8_8484_f49634e512a2row1_col3 {\n",
       "            text-align:  right;\n",
       "        }    #T_36a30946_e05b_11e8_8484_f49634e512a2row1_col4 {\n",
       "            text-align:  right;\n",
       "        }    #T_36a30946_e05b_11e8_8484_f49634e512a2row1_col5 {\n",
       "            text-align:  right;\n",
       "        }    #T_36a30946_e05b_11e8_8484_f49634e512a2row1_col6 {\n",
       "            text-align:  right;\n",
       "        }    #T_36a30946_e05b_11e8_8484_f49634e512a2row1_col7 {\n",
       "            text-align:  right;\n",
       "        }    #T_36a30946_e05b_11e8_8484_f49634e512a2row2_col0 {\n",
       "            text-align:  right;\n",
       "        }    #T_36a30946_e05b_11e8_8484_f49634e512a2row2_col1 {\n",
       "            text-align:  right;\n",
       "        }    #T_36a30946_e05b_11e8_8484_f49634e512a2row2_col2 {\n",
       "            text-align:  right;\n",
       "        }    #T_36a30946_e05b_11e8_8484_f49634e512a2row2_col3 {\n",
       "            text-align:  right;\n",
       "        }    #T_36a30946_e05b_11e8_8484_f49634e512a2row2_col4 {\n",
       "            text-align:  right;\n",
       "        }    #T_36a30946_e05b_11e8_8484_f49634e512a2row2_col5 {\n",
       "            text-align:  right;\n",
       "        }    #T_36a30946_e05b_11e8_8484_f49634e512a2row2_col6 {\n",
       "            text-align:  right;\n",
       "        }    #T_36a30946_e05b_11e8_8484_f49634e512a2row2_col7 {\n",
       "            text-align:  right;\n",
       "        }    #T_36a30946_e05b_11e8_8484_f49634e512a2row3_col0 {\n",
       "            text-align:  right;\n",
       "        }    #T_36a30946_e05b_11e8_8484_f49634e512a2row3_col1 {\n",
       "            text-align:  right;\n",
       "        }    #T_36a30946_e05b_11e8_8484_f49634e512a2row3_col2 {\n",
       "            text-align:  right;\n",
       "        }    #T_36a30946_e05b_11e8_8484_f49634e512a2row3_col3 {\n",
       "            text-align:  right;\n",
       "        }    #T_36a30946_e05b_11e8_8484_f49634e512a2row3_col4 {\n",
       "            text-align:  right;\n",
       "        }    #T_36a30946_e05b_11e8_8484_f49634e512a2row3_col5 {\n",
       "            text-align:  right;\n",
       "        }    #T_36a30946_e05b_11e8_8484_f49634e512a2row3_col6 {\n",
       "            text-align:  right;\n",
       "        }    #T_36a30946_e05b_11e8_8484_f49634e512a2row3_col7 {\n",
       "            text-align:  right;\n",
       "        }    #T_36a30946_e05b_11e8_8484_f49634e512a2row4_col0 {\n",
       "            text-align:  right;\n",
       "        }    #T_36a30946_e05b_11e8_8484_f49634e512a2row4_col1 {\n",
       "            text-align:  right;\n",
       "        }    #T_36a30946_e05b_11e8_8484_f49634e512a2row4_col2 {\n",
       "            text-align:  right;\n",
       "        }    #T_36a30946_e05b_11e8_8484_f49634e512a2row4_col3 {\n",
       "            text-align:  right;\n",
       "        }    #T_36a30946_e05b_11e8_8484_f49634e512a2row4_col4 {\n",
       "            text-align:  right;\n",
       "        }    #T_36a30946_e05b_11e8_8484_f49634e512a2row4_col5 {\n",
       "            text-align:  right;\n",
       "        }    #T_36a30946_e05b_11e8_8484_f49634e512a2row4_col6 {\n",
       "            text-align:  right;\n",
       "        }    #T_36a30946_e05b_11e8_8484_f49634e512a2row4_col7 {\n",
       "            text-align:  right;\n",
       "        }    #T_36a30946_e05b_11e8_8484_f49634e512a2row5_col0 {\n",
       "            text-align:  right;\n",
       "        }    #T_36a30946_e05b_11e8_8484_f49634e512a2row5_col1 {\n",
       "            text-align:  right;\n",
       "        }    #T_36a30946_e05b_11e8_8484_f49634e512a2row5_col2 {\n",
       "            text-align:  right;\n",
       "        }    #T_36a30946_e05b_11e8_8484_f49634e512a2row5_col3 {\n",
       "            text-align:  right;\n",
       "        }    #T_36a30946_e05b_11e8_8484_f49634e512a2row5_col4 {\n",
       "            text-align:  right;\n",
       "        }    #T_36a30946_e05b_11e8_8484_f49634e512a2row5_col5 {\n",
       "            text-align:  right;\n",
       "        }    #T_36a30946_e05b_11e8_8484_f49634e512a2row5_col6 {\n",
       "            text-align:  right;\n",
       "        }    #T_36a30946_e05b_11e8_8484_f49634e512a2row5_col7 {\n",
       "            text-align:  right;\n",
       "        }    #T_36a30946_e05b_11e8_8484_f49634e512a2row6_col0 {\n",
       "            text-align:  right;\n",
       "        }    #T_36a30946_e05b_11e8_8484_f49634e512a2row6_col1 {\n",
       "            text-align:  right;\n",
       "        }    #T_36a30946_e05b_11e8_8484_f49634e512a2row6_col2 {\n",
       "            text-align:  right;\n",
       "        }    #T_36a30946_e05b_11e8_8484_f49634e512a2row6_col3 {\n",
       "            text-align:  right;\n",
       "        }    #T_36a30946_e05b_11e8_8484_f49634e512a2row6_col4 {\n",
       "            text-align:  right;\n",
       "        }    #T_36a30946_e05b_11e8_8484_f49634e512a2row6_col5 {\n",
       "            text-align:  right;\n",
       "        }    #T_36a30946_e05b_11e8_8484_f49634e512a2row6_col6 {\n",
       "            text-align:  right;\n",
       "        }    #T_36a30946_e05b_11e8_8484_f49634e512a2row6_col7 {\n",
       "            text-align:  right;\n",
       "        }    #T_36a30946_e05b_11e8_8484_f49634e512a2row7_col0 {\n",
       "            text-align:  right;\n",
       "        }    #T_36a30946_e05b_11e8_8484_f49634e512a2row7_col1 {\n",
       "            text-align:  right;\n",
       "        }    #T_36a30946_e05b_11e8_8484_f49634e512a2row7_col2 {\n",
       "            text-align:  right;\n",
       "        }    #T_36a30946_e05b_11e8_8484_f49634e512a2row7_col3 {\n",
       "            text-align:  right;\n",
       "        }    #T_36a30946_e05b_11e8_8484_f49634e512a2row7_col4 {\n",
       "            text-align:  right;\n",
       "        }    #T_36a30946_e05b_11e8_8484_f49634e512a2row7_col5 {\n",
       "            text-align:  right;\n",
       "        }    #T_36a30946_e05b_11e8_8484_f49634e512a2row7_col6 {\n",
       "            text-align:  right;\n",
       "        }    #T_36a30946_e05b_11e8_8484_f49634e512a2row7_col7 {\n",
       "            text-align:  right;\n",
       "        }</style>  \n",
       "<table id=\"T_36a30946_e05b_11e8_8484_f49634e512a2\" > \n",
       "<thead>    <tr> \n",
       "        <th class=\"blank level0\" ></th> \n",
       "        <th class=\"col_heading level0 col0\" >x1</th> \n",
       "        <th class=\"col_heading level0 col1\" >y1</th> \n",
       "        <th class=\"col_heading level0 col2\" >x2</th> \n",
       "        <th class=\"col_heading level0 col3\" >y2</th> \n",
       "        <th class=\"col_heading level0 col4\" >x3</th> \n",
       "        <th class=\"col_heading level0 col5\" >y3</th> \n",
       "        <th class=\"col_heading level0 col6\" >x4</th> \n",
       "        <th class=\"col_heading level0 col7\" >y4</th> \n",
       "    </tr></thead> \n",
       "<tbody>    <tr> \n",
       "        <th id=\"T_36a30946_e05b_11e8_8484_f49634e512a2level0_row0\" class=\"row_heading level0 row0\" >count</th> \n",
       "        <td id=\"T_36a30946_e05b_11e8_8484_f49634e512a2row0_col0\" class=\"data row0 col0\" >11</td> \n",
       "        <td id=\"T_36a30946_e05b_11e8_8484_f49634e512a2row0_col1\" class=\"data row0 col1\" >11</td> \n",
       "        <td id=\"T_36a30946_e05b_11e8_8484_f49634e512a2row0_col2\" class=\"data row0 col2\" >11</td> \n",
       "        <td id=\"T_36a30946_e05b_11e8_8484_f49634e512a2row0_col3\" class=\"data row0 col3\" >11</td> \n",
       "        <td id=\"T_36a30946_e05b_11e8_8484_f49634e512a2row0_col4\" class=\"data row0 col4\" >11</td> \n",
       "        <td id=\"T_36a30946_e05b_11e8_8484_f49634e512a2row0_col5\" class=\"data row0 col5\" >11</td> \n",
       "        <td id=\"T_36a30946_e05b_11e8_8484_f49634e512a2row0_col6\" class=\"data row0 col6\" >11</td> \n",
       "        <td id=\"T_36a30946_e05b_11e8_8484_f49634e512a2row0_col7\" class=\"data row0 col7\" >11</td> \n",
       "    </tr>    <tr> \n",
       "        <th id=\"T_36a30946_e05b_11e8_8484_f49634e512a2level0_row1\" class=\"row_heading level0 row1\" >mean</th> \n",
       "        <td id=\"T_36a30946_e05b_11e8_8484_f49634e512a2row1_col0\" class=\"data row1 col0\" >9</td> \n",
       "        <td id=\"T_36a30946_e05b_11e8_8484_f49634e512a2row1_col1\" class=\"data row1 col1\" >7.50091</td> \n",
       "        <td id=\"T_36a30946_e05b_11e8_8484_f49634e512a2row1_col2\" class=\"data row1 col2\" >9</td> \n",
       "        <td id=\"T_36a30946_e05b_11e8_8484_f49634e512a2row1_col3\" class=\"data row1 col3\" >7.50091</td> \n",
       "        <td id=\"T_36a30946_e05b_11e8_8484_f49634e512a2row1_col4\" class=\"data row1 col4\" >9</td> \n",
       "        <td id=\"T_36a30946_e05b_11e8_8484_f49634e512a2row1_col5\" class=\"data row1 col5\" >7.5</td> \n",
       "        <td id=\"T_36a30946_e05b_11e8_8484_f49634e512a2row1_col6\" class=\"data row1 col6\" >9</td> \n",
       "        <td id=\"T_36a30946_e05b_11e8_8484_f49634e512a2row1_col7\" class=\"data row1 col7\" >7.50091</td> \n",
       "    </tr>    <tr> \n",
       "        <th id=\"T_36a30946_e05b_11e8_8484_f49634e512a2level0_row2\" class=\"row_heading level0 row2\" >std</th> \n",
       "        <td id=\"T_36a30946_e05b_11e8_8484_f49634e512a2row2_col0\" class=\"data row2 col0\" >3.31662</td> \n",
       "        <td id=\"T_36a30946_e05b_11e8_8484_f49634e512a2row2_col1\" class=\"data row2 col1\" >2.03157</td> \n",
       "        <td id=\"T_36a30946_e05b_11e8_8484_f49634e512a2row2_col2\" class=\"data row2 col2\" >3.31662</td> \n",
       "        <td id=\"T_36a30946_e05b_11e8_8484_f49634e512a2row2_col3\" class=\"data row2 col3\" >2.03166</td> \n",
       "        <td id=\"T_36a30946_e05b_11e8_8484_f49634e512a2row2_col4\" class=\"data row2 col4\" >3.31662</td> \n",
       "        <td id=\"T_36a30946_e05b_11e8_8484_f49634e512a2row2_col5\" class=\"data row2 col5\" >2.03042</td> \n",
       "        <td id=\"T_36a30946_e05b_11e8_8484_f49634e512a2row2_col6\" class=\"data row2 col6\" >3.31662</td> \n",
       "        <td id=\"T_36a30946_e05b_11e8_8484_f49634e512a2row2_col7\" class=\"data row2 col7\" >2.03058</td> \n",
       "    </tr>    <tr> \n",
       "        <th id=\"T_36a30946_e05b_11e8_8484_f49634e512a2level0_row3\" class=\"row_heading level0 row3\" >min</th> \n",
       "        <td id=\"T_36a30946_e05b_11e8_8484_f49634e512a2row3_col0\" class=\"data row3 col0\" >4</td> \n",
       "        <td id=\"T_36a30946_e05b_11e8_8484_f49634e512a2row3_col1\" class=\"data row3 col1\" >4.26</td> \n",
       "        <td id=\"T_36a30946_e05b_11e8_8484_f49634e512a2row3_col2\" class=\"data row3 col2\" >4</td> \n",
       "        <td id=\"T_36a30946_e05b_11e8_8484_f49634e512a2row3_col3\" class=\"data row3 col3\" >3.1</td> \n",
       "        <td id=\"T_36a30946_e05b_11e8_8484_f49634e512a2row3_col4\" class=\"data row3 col4\" >4</td> \n",
       "        <td id=\"T_36a30946_e05b_11e8_8484_f49634e512a2row3_col5\" class=\"data row3 col5\" >5.39</td> \n",
       "        <td id=\"T_36a30946_e05b_11e8_8484_f49634e512a2row3_col6\" class=\"data row3 col6\" >8</td> \n",
       "        <td id=\"T_36a30946_e05b_11e8_8484_f49634e512a2row3_col7\" class=\"data row3 col7\" >5.25</td> \n",
       "    </tr>    <tr> \n",
       "        <th id=\"T_36a30946_e05b_11e8_8484_f49634e512a2level0_row4\" class=\"row_heading level0 row4\" >25%</th> \n",
       "        <td id=\"T_36a30946_e05b_11e8_8484_f49634e512a2row4_col0\" class=\"data row4 col0\" >6.5</td> \n",
       "        <td id=\"T_36a30946_e05b_11e8_8484_f49634e512a2row4_col1\" class=\"data row4 col1\" >6.315</td> \n",
       "        <td id=\"T_36a30946_e05b_11e8_8484_f49634e512a2row4_col2\" class=\"data row4 col2\" >6.5</td> \n",
       "        <td id=\"T_36a30946_e05b_11e8_8484_f49634e512a2row4_col3\" class=\"data row4 col3\" >6.695</td> \n",
       "        <td id=\"T_36a30946_e05b_11e8_8484_f49634e512a2row4_col4\" class=\"data row4 col4\" >6.5</td> \n",
       "        <td id=\"T_36a30946_e05b_11e8_8484_f49634e512a2row4_col5\" class=\"data row4 col5\" >6.25</td> \n",
       "        <td id=\"T_36a30946_e05b_11e8_8484_f49634e512a2row4_col6\" class=\"data row4 col6\" >8</td> \n",
       "        <td id=\"T_36a30946_e05b_11e8_8484_f49634e512a2row4_col7\" class=\"data row4 col7\" >6.17</td> \n",
       "    </tr>    <tr> \n",
       "        <th id=\"T_36a30946_e05b_11e8_8484_f49634e512a2level0_row5\" class=\"row_heading level0 row5\" >50%</th> \n",
       "        <td id=\"T_36a30946_e05b_11e8_8484_f49634e512a2row5_col0\" class=\"data row5 col0\" >9</td> \n",
       "        <td id=\"T_36a30946_e05b_11e8_8484_f49634e512a2row5_col1\" class=\"data row5 col1\" >7.58</td> \n",
       "        <td id=\"T_36a30946_e05b_11e8_8484_f49634e512a2row5_col2\" class=\"data row5 col2\" >9</td> \n",
       "        <td id=\"T_36a30946_e05b_11e8_8484_f49634e512a2row5_col3\" class=\"data row5 col3\" >8.14</td> \n",
       "        <td id=\"T_36a30946_e05b_11e8_8484_f49634e512a2row5_col4\" class=\"data row5 col4\" >9</td> \n",
       "        <td id=\"T_36a30946_e05b_11e8_8484_f49634e512a2row5_col5\" class=\"data row5 col5\" >7.11</td> \n",
       "        <td id=\"T_36a30946_e05b_11e8_8484_f49634e512a2row5_col6\" class=\"data row5 col6\" >8</td> \n",
       "        <td id=\"T_36a30946_e05b_11e8_8484_f49634e512a2row5_col7\" class=\"data row5 col7\" >7.04</td> \n",
       "    </tr>    <tr> \n",
       "        <th id=\"T_36a30946_e05b_11e8_8484_f49634e512a2level0_row6\" class=\"row_heading level0 row6\" >75%</th> \n",
       "        <td id=\"T_36a30946_e05b_11e8_8484_f49634e512a2row6_col0\" class=\"data row6 col0\" >11.5</td> \n",
       "        <td id=\"T_36a30946_e05b_11e8_8484_f49634e512a2row6_col1\" class=\"data row6 col1\" >8.57</td> \n",
       "        <td id=\"T_36a30946_e05b_11e8_8484_f49634e512a2row6_col2\" class=\"data row6 col2\" >11.5</td> \n",
       "        <td id=\"T_36a30946_e05b_11e8_8484_f49634e512a2row6_col3\" class=\"data row6 col3\" >8.95</td> \n",
       "        <td id=\"T_36a30946_e05b_11e8_8484_f49634e512a2row6_col4\" class=\"data row6 col4\" >11.5</td> \n",
       "        <td id=\"T_36a30946_e05b_11e8_8484_f49634e512a2row6_col5\" class=\"data row6 col5\" >7.98</td> \n",
       "        <td id=\"T_36a30946_e05b_11e8_8484_f49634e512a2row6_col6\" class=\"data row6 col6\" >8</td> \n",
       "        <td id=\"T_36a30946_e05b_11e8_8484_f49634e512a2row6_col7\" class=\"data row6 col7\" >8.19</td> \n",
       "    </tr>    <tr> \n",
       "        <th id=\"T_36a30946_e05b_11e8_8484_f49634e512a2level0_row7\" class=\"row_heading level0 row7\" >max</th> \n",
       "        <td id=\"T_36a30946_e05b_11e8_8484_f49634e512a2row7_col0\" class=\"data row7 col0\" >14</td> \n",
       "        <td id=\"T_36a30946_e05b_11e8_8484_f49634e512a2row7_col1\" class=\"data row7 col1\" >10.84</td> \n",
       "        <td id=\"T_36a30946_e05b_11e8_8484_f49634e512a2row7_col2\" class=\"data row7 col2\" >14</td> \n",
       "        <td id=\"T_36a30946_e05b_11e8_8484_f49634e512a2row7_col3\" class=\"data row7 col3\" >9.26</td> \n",
       "        <td id=\"T_36a30946_e05b_11e8_8484_f49634e512a2row7_col4\" class=\"data row7 col4\" >14</td> \n",
       "        <td id=\"T_36a30946_e05b_11e8_8484_f49634e512a2row7_col5\" class=\"data row7 col5\" >12.74</td> \n",
       "        <td id=\"T_36a30946_e05b_11e8_8484_f49634e512a2row7_col6\" class=\"data row7 col6\" >19</td> \n",
       "        <td id=\"T_36a30946_e05b_11e8_8484_f49634e512a2row7_col7\" class=\"data row7 col7\" >12.5</td> \n",
       "    </tr></tbody> \n",
       "</table> "
      ],
      "text/plain": [
       "<pandas.io.formats.style.Styler at 0x26e7bbdbe10>"
      ]
     },
     "execution_count": 6,
     "metadata": {},
     "output_type": "execute_result"
    }
   ],
   "source": [
    "# Dataframe describe used to provide descriptive statistics on data set. Pandas styling used for clarity of display.\n",
    "df.describe().style.set_properties(**{'text-align': 'right'})"
   ]
  },
  {
   "cell_type": "code",
   "execution_count": 7,
   "metadata": {},
   "outputs": [
    {
     "data": {
      "text/html": [
       "<div>\n",
       "<style scoped>\n",
       "    .dataframe tbody tr th:only-of-type {\n",
       "        vertical-align: middle;\n",
       "    }\n",
       "\n",
       "    .dataframe tbody tr th {\n",
       "        vertical-align: top;\n",
       "    }\n",
       "\n",
       "    .dataframe thead th {\n",
       "        text-align: right;\n",
       "    }\n",
       "</style>\n",
       "<table border=\"1\" class=\"dataframe\">\n",
       "  <thead>\n",
       "    <tr style=\"text-align: right;\">\n",
       "      <th></th>\n",
       "      <th>x1</th>\n",
       "      <th>x2</th>\n",
       "      <th>x3</th>\n",
       "      <th>x4</th>\n",
       "    </tr>\n",
       "  </thead>\n",
       "  <tbody>\n",
       "    <tr>\n",
       "      <th>count</th>\n",
       "      <td>11.000000</td>\n",
       "      <td>11.000000</td>\n",
       "      <td>11.000000</td>\n",
       "      <td>11.000000</td>\n",
       "    </tr>\n",
       "    <tr>\n",
       "      <th>mean</th>\n",
       "      <td>9.000000</td>\n",
       "      <td>9.000000</td>\n",
       "      <td>9.000000</td>\n",
       "      <td>9.000000</td>\n",
       "    </tr>\n",
       "    <tr>\n",
       "      <th>std</th>\n",
       "      <td>3.316625</td>\n",
       "      <td>3.316625</td>\n",
       "      <td>3.316625</td>\n",
       "      <td>3.316625</td>\n",
       "    </tr>\n",
       "    <tr>\n",
       "      <th>min</th>\n",
       "      <td>4.000000</td>\n",
       "      <td>4.000000</td>\n",
       "      <td>4.000000</td>\n",
       "      <td>8.000000</td>\n",
       "    </tr>\n",
       "    <tr>\n",
       "      <th>25%</th>\n",
       "      <td>6.500000</td>\n",
       "      <td>6.500000</td>\n",
       "      <td>6.500000</td>\n",
       "      <td>8.000000</td>\n",
       "    </tr>\n",
       "    <tr>\n",
       "      <th>50%</th>\n",
       "      <td>9.000000</td>\n",
       "      <td>9.000000</td>\n",
       "      <td>9.000000</td>\n",
       "      <td>8.000000</td>\n",
       "    </tr>\n",
       "    <tr>\n",
       "      <th>75%</th>\n",
       "      <td>11.500000</td>\n",
       "      <td>11.500000</td>\n",
       "      <td>11.500000</td>\n",
       "      <td>8.000000</td>\n",
       "    </tr>\n",
       "    <tr>\n",
       "      <th>max</th>\n",
       "      <td>14.000000</td>\n",
       "      <td>14.000000</td>\n",
       "      <td>14.000000</td>\n",
       "      <td>19.000000</td>\n",
       "    </tr>\n",
       "  </tbody>\n",
       "</table>\n",
       "</div>"
      ],
      "text/plain": [
       "              x1         x2         x3         x4\n",
       "count  11.000000  11.000000  11.000000  11.000000\n",
       "mean    9.000000   9.000000   9.000000   9.000000\n",
       "std     3.316625   3.316625   3.316625   3.316625\n",
       "min     4.000000   4.000000   4.000000   8.000000\n",
       "25%     6.500000   6.500000   6.500000   8.000000\n",
       "50%     9.000000   9.000000   9.000000   8.000000\n",
       "75%    11.500000  11.500000  11.500000   8.000000\n",
       "max    14.000000  14.000000  14.000000  19.000000"
      ]
     },
     "execution_count": 7,
     "metadata": {},
     "output_type": "execute_result"
    }
   ],
   "source": [
    "# Slicing descriptive statistics dataframe to compare different x data sets\n",
    "stats = df.describe()\n",
    "stats.iloc[:,[0,2,4,6]]\n"
   ]
  },
  {
   "cell_type": "code",
   "execution_count": 8,
   "metadata": {},
   "outputs": [
    {
     "data": {
      "text/html": [
       "<div>\n",
       "<style scoped>\n",
       "    .dataframe tbody tr th:only-of-type {\n",
       "        vertical-align: middle;\n",
       "    }\n",
       "\n",
       "    .dataframe tbody tr th {\n",
       "        vertical-align: top;\n",
       "    }\n",
       "\n",
       "    .dataframe thead th {\n",
       "        text-align: right;\n",
       "    }\n",
       "</style>\n",
       "<table border=\"1\" class=\"dataframe\">\n",
       "  <thead>\n",
       "    <tr style=\"text-align: right;\">\n",
       "      <th></th>\n",
       "      <th>y1</th>\n",
       "      <th>y2</th>\n",
       "      <th>y3</th>\n",
       "      <th>y4</th>\n",
       "    </tr>\n",
       "  </thead>\n",
       "  <tbody>\n",
       "    <tr>\n",
       "      <th>count</th>\n",
       "      <td>11.000000</td>\n",
       "      <td>11.000000</td>\n",
       "      <td>11.000000</td>\n",
       "      <td>11.000000</td>\n",
       "    </tr>\n",
       "    <tr>\n",
       "      <th>mean</th>\n",
       "      <td>7.500909</td>\n",
       "      <td>7.500909</td>\n",
       "      <td>7.500000</td>\n",
       "      <td>7.500909</td>\n",
       "    </tr>\n",
       "    <tr>\n",
       "      <th>std</th>\n",
       "      <td>2.031568</td>\n",
       "      <td>2.031657</td>\n",
       "      <td>2.030424</td>\n",
       "      <td>2.030579</td>\n",
       "    </tr>\n",
       "    <tr>\n",
       "      <th>min</th>\n",
       "      <td>4.260000</td>\n",
       "      <td>3.100000</td>\n",
       "      <td>5.390000</td>\n",
       "      <td>5.250000</td>\n",
       "    </tr>\n",
       "    <tr>\n",
       "      <th>25%</th>\n",
       "      <td>6.315000</td>\n",
       "      <td>6.695000</td>\n",
       "      <td>6.250000</td>\n",
       "      <td>6.170000</td>\n",
       "    </tr>\n",
       "    <tr>\n",
       "      <th>50%</th>\n",
       "      <td>7.580000</td>\n",
       "      <td>8.140000</td>\n",
       "      <td>7.110000</td>\n",
       "      <td>7.040000</td>\n",
       "    </tr>\n",
       "    <tr>\n",
       "      <th>75%</th>\n",
       "      <td>8.570000</td>\n",
       "      <td>8.950000</td>\n",
       "      <td>7.980000</td>\n",
       "      <td>8.190000</td>\n",
       "    </tr>\n",
       "    <tr>\n",
       "      <th>max</th>\n",
       "      <td>10.840000</td>\n",
       "      <td>9.260000</td>\n",
       "      <td>12.740000</td>\n",
       "      <td>12.500000</td>\n",
       "    </tr>\n",
       "  </tbody>\n",
       "</table>\n",
       "</div>"
      ],
      "text/plain": [
       "              y1         y2         y3         y4\n",
       "count  11.000000  11.000000  11.000000  11.000000\n",
       "mean    7.500909   7.500909   7.500000   7.500909\n",
       "std     2.031568   2.031657   2.030424   2.030579\n",
       "min     4.260000   3.100000   5.390000   5.250000\n",
       "25%     6.315000   6.695000   6.250000   6.170000\n",
       "50%     7.580000   8.140000   7.110000   7.040000\n",
       "75%     8.570000   8.950000   7.980000   8.190000\n",
       "max    10.840000   9.260000  12.740000  12.500000"
      ]
     },
     "execution_count": 8,
     "metadata": {},
     "output_type": "execute_result"
    }
   ],
   "source": [
    "# Slicing descriptive statistics dataframe to compare different y data sets\n",
    "stats.iloc[:,[1,3,5,7]] "
   ]
  },
  {
   "cell_type": "markdown",
   "metadata": {},
   "source": [
    "Values for mean and standard deviation, of x and y data sets, are equivalent. \n",
    "\n",
    "The measures of position, percentiles, as well as min and max show marginal variability."
   ]
  },
  {
   "cell_type": "code",
   "execution_count": 9,
   "metadata": {},
   "outputs": [],
   "source": [
    "import numpy as np\n",
    "import matplotlib.pyplot as plt"
   ]
  },
  {
   "cell_type": "code",
   "execution_count": 10,
   "metadata": {},
   "outputs": [],
   "source": [
    "# Create arrays to hold data values from dataframe by referencing labels\n",
    "x1 = df[\"x1\"].values\n",
    "y1 = df[\"y1\"].values\n",
    "x2 = df[\"x2\"].values\n",
    "y2 = df[\"y2\"].values\n",
    "x3 = df[\"x3\"].values\n",
    "y3 = df[\"y3\"].values\n",
    "x4 = df[\"x4\"].values\n",
    "y4 = df[\"y4\"].values"
   ]
  },
  {
   "cell_type": "code",
   "execution_count": 11,
   "metadata": {},
   "outputs": [],
   "source": [
    "# Write function for Linear Regression\n",
    "\n",
    "def slr(x,y):\n",
    "# Calculate the means of x and y.\n",
    "    x_avg = np.mean(x)\n",
    "    y_avg = np.mean(y)\n",
    "\n",
    "    x_zero = x - x_avg\n",
    "    y_zero = y - y_avg\n",
    "\n",
    "# The best m, slope for line, is found by the following calculation.\n",
    "    m = np.sum(x_zero * y_zero) / np.sum(x_zero * x_zero)\n",
    "\n",
    "# Use m from above to calculate the best c, intercept.\n",
    "    c = y_avg - m * x_avg\n",
    "\n",
    "    return m,c\n"
   ]
  },
  {
   "cell_type": "code",
   "execution_count": 12,
   "metadata": {},
   "outputs": [
    {
     "name": "stdout",
     "output_type": "stream",
     "text": [
      "The m and c values for x1y1 are:  (0.5000909090909091, 3.0000909090909103)\n"
     ]
    }
   ],
   "source": [
    "print(\"The m and c values for x1y1 are: \",slr(x1,y1))"
   ]
  },
  {
   "cell_type": "markdown",
   "metadata": {},
   "source": [
    "Therefore, the linear equation to describe the relationship between x1 and y1 is:\n",
    "\n",
    "$ y1 = 0.5000909090909091*x1 + 3.0000909090909103$"
   ]
  },
  {
   "cell_type": "markdown",
   "metadata": {},
   "source": [
    "The numpy.polyfit function will output the same details as slr function detailed above."
   ]
  },
  {
   "cell_type": "code",
   "execution_count": 13,
   "metadata": {},
   "outputs": [],
   "source": [
    "# First degree polynomial is linear\n",
    "# Assigning values to m, slope, and c, y intercept. \n",
    "m1,c1 = np.polyfit(x1,y1,1)\n",
    "m2,c2 = np.polyfit(x2,y2,1)\n",
    "m3,c3 = np.polyfit(x3,y3,1)\n",
    "m4,c4 = np.polyfit(x4,y4,1)"
   ]
  },
  {
   "cell_type": "code",
   "execution_count": 14,
   "metadata": {},
   "outputs": [
    {
     "name": "stdout",
     "output_type": "stream",
     "text": [
      "The outputted values for m1, slope, and c1, intercept, are 0.5001 and 3.0001\n"
     ]
    }
   ],
   "source": [
    "# Checking that the polyfit function matches slr function\n",
    "print(\"The outputted values for m1, slope, and c1, intercept, are %6.4f\" % m1,\"and %6.4f\" % c1)"
   ]
  },
  {
   "cell_type": "code",
   "execution_count": 15,
   "metadata": {},
   "outputs": [
    {
     "data": {
      "image/png": "[encoded data removed]",
      "text/plain": [
       "<Figure size 1080x720 with 4 Axes>"
      ]
     },
     "metadata": {
      "needs_background": "light"
     },
     "output_type": "display_data"
    }
   ],
   "source": [
    "# Setting figure and defining size of subplots\n",
    "fig = plt.figure(figsize=(15,10))\n",
    "\n",
    "# Defining 4 subplots to display Anscombe data sets with linear fit.\n",
    "\n",
    "#x1y1 data\n",
    "plt.subplot(2, 2, 1)\n",
    "plt.plot(x1,y1,'r.',label='x1,y1 data')\n",
    "plt.plot(x1,m1*x1+c1,label='linear fit')\n",
    "plt.xlabel('x1')\n",
    "plt.ylabel('y1')\n",
    "plt.grid(True)\n",
    "plt.legend()\n",
    "\n",
    "#x2y2 data\n",
    "plt.subplot(2, 2, 2)\n",
    "plt.plot(x2,y2,'b.',label='x2,y2 data')\n",
    "plt.plot(x2,m2*x2+c2,label='linear fit')\n",
    "plt.xlabel('x2')\n",
    "plt.ylabel('y2')\n",
    "plt.grid(True)\n",
    "plt.legend()\n",
    "\n",
    "#x3y3 data\n",
    "plt.subplot(2, 2, 3)\n",
    "plt.plot(x3,y3,'g.',label='x3,y3 data')\n",
    "plt.plot(x3,m3*x3+c3,label='linear fit')\n",
    "plt.xlabel('x3')\n",
    "plt.ylabel('y3')\n",
    "plt.grid(True)\n",
    "plt.legend()\n",
    "\n",
    "#x4y4 data\n",
    "plt.subplot(2, 2, 4)\n",
    "plt.plot(x4,y4,'m.',label='x4,y4 data')\n",
    "plt.plot(x4,m4*x4+c4,label='linear fit')\n",
    "plt.xlabel('x4')\n",
    "plt.ylabel('y4')\n",
    "plt.grid(True)\n",
    "plt.legend()\n",
    "\n",
    "plt.show()\n"
   ]
  },
  {
   "cell_type": "markdown",
   "metadata": {},
   "source": [
    "Covariance,<sup>[7](https://en.wikipedia.org/wiki/Covariance)</sup>, is a measure of the variability between two variables and describes the degree by which a variable's value will change relative to the other variable, i.e. linear relationship between two variables. \n",
    "\n",
    "The normalised or dimensionless value of covariance is the Correlation Coefficient. This ranges from -1(perfect decreasing correlation) to 0 (no correlation) to 1 (perfect increasing correlation). \n",
    "\n",
    "The correlation coefficients for the four data sets defined by Anscombe will be calculated. "
   ]
  },
  {
   "cell_type": "code",
   "execution_count": 16,
   "metadata": {},
   "outputs": [
    {
     "name": "stdout",
     "output_type": "stream",
     "text": [
      "The correlation coefficient between x1 and y1 is 0.8164\n",
      "The correlation coefficient between x2 and y2 is 0.8162\n",
      "The correlation coefficient between x3 and y3 is 0.8163\n",
      "The correlation coefficient between x4 and y4 is 0.8165\n"
     ]
    }
   ],
   "source": [
    "corr_x1y1 = np.corrcoef(x1,y1)[0][1]\n",
    "corr_x2y2 = np.corrcoef(x2,y2)[0][1]\n",
    "corr_x3y3 = np.corrcoef(x3,y3)[0][1]\n",
    "corr_x4y4 = np.corrcoef(x4,y4)[0][1]\n",
    "print(\"The correlation coefficient between x1 and y1 is %6.4f\" % corr_x1y1)\n",
    "print(\"The correlation coefficient between x2 and y2 is %6.4f\" % corr_x2y2)\n",
    "print(\"The correlation coefficient between x3 and y3 is %6.4f\" % corr_x3y3)\n",
    "print(\"The correlation coefficient between x4 and y4 is %6.4f\" % corr_x4y4)\n"
   ]
  },
  {
   "cell_type": "markdown",
   "metadata": {},
   "source": [
    "# Discussion of Anscombe's Quartet Datasets"
   ]
  },
  {
   "cell_type": "markdown",
   "metadata": {},
   "source": [
    "The main learning from Anscombe's Quartet Datasets is that statistics describing data sets can be misleading and highlights the importance of data visualisation as part of data analysis. \n",
    "\n",
    "The descriptive statistics of the four data sets are nearly identical. \n",
    "\n",
    "| Descriptive Statistic      | Value           |\n",
    "| ----------- |---------------|\n",
    "| Mean of x values | 9 |\n",
    "| Mean of y values | 7.5 |\n",
    "| Standard Deviation of x values  | 3.31 | \n",
    "| Standard Deviation of y values | 2.03 |   \n",
    "| Linear equation | $ y = 0.5*x + 3$ |   \n",
    "| Correlation coefficient between x and y | 0.816 |   \n",
    "\n",
    "The values describing position, percentiles, max, min, show variability but these do not provide sufficient insight into difference between data sets. \n",
    "\n",
    "When plotted, these four data sets differ from one another greatly."
   ]
  },
  {
   "cell_type": "markdown",
   "metadata": {},
   "source": [
    "## Data Set 1: x1,y1\n",
    "There appears to be a noisy but linear relationship between x1 and y1 values. The linear equation $ y = 0.5*x + 3$ describes the relationship between the variables with a correlation coefficient of 0.816. Using scipy.stats, the distribution of x1 and y1 values will be displayed to determine if normally distributed. The code for the operations was adapted from a post on Stack Overflow <sup>[8](https://stackoverflow.com/questions/20011494/plot-normal-distribution-with-matplotlib)</sup>."
   ]
  },
  {
   "cell_type": "code",
   "execution_count": 17,
   "metadata": {},
   "outputs": [
    {
     "data": {
      "image/png": "[encoded data removed]",
      "text/plain": [
       "<Figure size 432x288 with 1 Axes>"
      ]
     },
     "metadata": {
      "needs_background": "light"
     },
     "output_type": "display_data"
    },
    {
     "data": {
      "image/png": "[encoded data removed]",
      "text/plain": [
       "<Figure size 432x288 with 1 Axes>"
      ]
     },
     "metadata": {
      "needs_background": "light"
     },
     "output_type": "display_data"
    }
   ],
   "source": [
    "import scipy.stats as stats\n",
    "# Setting up parameters for y1 values\n",
    "y1norm = list(y1) # list() used to prevent reference of same object.\n",
    "y1norm.sort()\n",
    "y1mean = np.mean(y1norm)\n",
    "y1std = np.std(y1norm)\n",
    "\n",
    "# Plot to visualise distribution of y1 values\n",
    "pdf = stats.norm.pdf(y1norm, y1mean, y1std)\n",
    "plt.title(\"Distribution of y1 values\")\n",
    "plt.plot(y1norm, pdf)\n",
    "plt.grid(True)\n",
    "plt.show()\n",
    "\n",
    "\n",
    "\n",
    "# Setting up parameters for x1 values\n",
    "x1norm = list(x1) # list() used to prevent reference of same object.\n",
    "x1norm.sort()\n",
    "x1mean = np.mean(x1norm)\n",
    "x1std = np.std(x1norm)\n",
    "\n",
    "# Plot to visualise distribution of y1 values\n",
    "pdf = stats.norm.pdf(x1norm, x1mean, x1std)\n",
    "plt.title(\"Distribution of x1 values\")\n",
    "plt.plot(x1norm, pdf)\n",
    "plt.grid(True)\n",
    "plt.show()\n"
   ]
  },
  {
   "cell_type": "markdown",
   "metadata": {},
   "source": [
    "The distribution of y1 values shows a normal distribution centred around 7.5.\n",
    "\n",
    "The distribution of x1 values shows a normal distribution centred around 9.0.\n",
    "\n",
    "The descriptive statistics accurately describe the x1y1 data set."
   ]
  },
  {
   "cell_type": "markdown",
   "metadata": {},
   "source": [
    "## Data Set 2: x2,y2"
   ]
  },
  {
   "cell_type": "markdown",
   "metadata": {},
   "source": [
    "When plotted, the x2y2 data set appears quadratic.\n",
    "\n",
    "Equation for a quadratic line is:  $y = q1x^2 + q2x + q3$ "
   ]
  },
  {
   "cell_type": "code",
   "execution_count": 18,
   "metadata": {},
   "outputs": [
    {
     "data": {
      "text/plain": [
       "(-0.126713286713287, 2.7808391608391636, -5.9957342657342645)"
      ]
     },
     "execution_count": 18,
     "metadata": {},
     "output_type": "execute_result"
    }
   ],
   "source": [
    "# Three constants to describe quadratic outputted as q1, q2 and q3\n",
    "q1,q2,q3 = np.polyfit(x2,y2,2)\n",
    "q1,q2,q3"
   ]
  },
  {
   "cell_type": "code",
   "execution_count": 19,
   "metadata": {},
   "outputs": [
    {
     "data": {
      "text/plain": [
       "array([9.14132867, 8.14132867, 8.74062937, 8.76804196, 9.26118881,\n",
       "       8.10020979, 6.12762238, 3.10020979, 9.12762238, 7.26118881,\n",
       "       4.74062937])"
      ]
     },
     "execution_count": 19,
     "metadata": {},
     "output_type": "execute_result"
    }
   ],
   "source": [
    "y_val = (q1*x2**2)+(q2*x2)+q3\n",
    "y_val # predicted y values when x2 supplied as input"
   ]
  },
  {
   "cell_type": "code",
   "execution_count": 20,
   "metadata": {},
   "outputs": [
    {
     "data": {
      "image/png": "[encoded data removed]",
      "text/plain": [
       "<Figure size 432x288 with 1 Axes>"
      ]
     },
     "metadata": {
      "needs_background": "light"
     },
     "output_type": "display_data"
    }
   ],
   "source": [
    "# Scatter Plots to visualise if quadratic fit is aligned with x2y2 data points.\n",
    "plt.scatter(x2,y2,color = \"blue\", label='x2,y2 data',marker='*',s=50 )\n",
    "plt.scatter(x2,y_val,color = \"green\", label='Quadratic Fit',marker='D',s=150, alpha=\"0.3\") # markers transparent and increase size.\n",
    "plt.title(\"Plotting x2y2 values and Quadratic fit\")\n",
    "plt.xlabel('x')\n",
    "plt.ylabel('y')\n",
    "plt.grid(True)\n",
    "plt.legend()\n",
    "\n",
    "plt.show()"
   ]
  },
  {
   "cell_type": "markdown",
   "metadata": {},
   "source": [
    "The above plot displays that the relationship between x2 and y2 can be described as a quadratic relationship with equation: $$y = -0.127x^2 + 2.781x - 5.996$$ "
   ]
  },
  {
   "cell_type": "markdown",
   "metadata": {},
   "source": [
    "## Data Set 3: x3,y3"
   ]
  },
  {
   "cell_type": "markdown",
   "metadata": {},
   "source": [
    "The correlation coefficients for the four x,y data sets were found to be the same. "
   ]
  },
  {
   "cell_type": "markdown",
   "metadata": {},
   "source": [
    "Reviewing the plot for x3 v y3, there is one outlier from an otherwise apparently linear relationship.\n",
    "The outlier will be removed to determine its impact on correlation coefficient. The data points for the outlier are at index 2."
   ]
  },
  {
   "cell_type": "code",
   "execution_count": 21,
   "metadata": {},
   "outputs": [
    {
     "name": "stdout",
     "output_type": "stream",
     "text": [
      "The correlation coefficient between x3 and y3, with data at index 2 deleted, is  1.000\n"
     ]
    }
   ],
   "source": [
    "# New arrays created to remove values at index 2 of original data set.\n",
    "x3_del = np.delete(x3,2)\n",
    "y3_del = np.delete(y3,2)\n",
    "\n",
    "corr_x3y3_del = np.corrcoef(x3_del,y3_del)[0][1]\n",
    "print(\"The correlation coefficient between x3 and y3, with data at index 2 deleted, is %6.3f\" % corr_x3y3_del)"
   ]
  },
  {
   "cell_type": "markdown",
   "metadata": {},
   "source": [
    "Therefore, for the x3y3 data set, with the outlier at index 2 deleted, there is a linearly increasing perfect correlation between x3 and y3. \n",
    "\n",
    "This demonstrates the impact of one data point on the correlation coefficient of a data set. "
   ]
  },
  {
   "cell_type": "markdown",
   "metadata": {},
   "source": [
    "## Data Set 4: x4,y4"
   ]
  },
  {
   "cell_type": "markdown",
   "metadata": {},
   "source": [
    "Reviewing the plot for x4 v y4, there is one outlier. Apart from the outlier, all x values are 8. This data set demonstrates the impact of one data point on the correlation coefficient although there is no relationship between x and y values."
   ]
  },
  {
   "cell_type": "markdown",
   "metadata": {},
   "source": [
    "## References\n",
    "\n",
    "1. Anscombe's Quartyt, Wikipedia, https://en.wikipedia.org/wiki/Anscombe%27s_quartet\n",
    "\n",
    "2. Frank Anscombe, Wikipedia, https://en.wikipedia.org/wiki/Frank_Anscombe\n",
    "\n",
    "3. Frank Anscombe Image, By Yale Bulletin & CalendarNovember 2, 2001: Volume 30, Number 9, Fair use, https://en.wikipedia.org/w/index.php?curid=23138907\n",
    "\n",
    "4. Same Stats, Different Graphs: Generating Datasets with Varied Appearance and\n",
    "Identical Statistics through Simulated Annealing, Justin Matejka and George Fitzmaurice https://www.autodeskresearch.com/sites/default/files/SameStats-DifferentGraphs.pdf\n",
    "1. Anscombe quartet dataset source, http://www3.wabash.edu/econometrics/econometricsbook/Chapters/Ch05InterpretingRegression/ExcelFiles/Anscombe.xls\n",
    "\n",
    "2. Pandas documentation for Styles, http://pandas.pydata.org/pandas-docs/stable/style.html\n",
    "\n",
    "3. Covariance, Wikipedia, https://en.wikipedia.org/wiki/Covariance\n",
    "\n",
    "4. Plot Normal Distribution, Stack Overflow, https://stackoverflow.com/questions/20011494/plot-normal-distribution-with-matplotlib\n"
   ]
  }
 ],
 "metadata": {
  "kernelspec": {
   "display_name": "Python 3",
   "language": "python",
   "name": "python3"
  },
  "language_info": {
   "codemirror_mode": {
    "name": "ipython",
    "version": 3
   },
   "file_extension": ".py",
   "mimetype": "text/x-python",
   "name": "python",
   "nbconvert_exporter": "python",
   "pygments_lexer": "ipython3",
   "version": "3.6.6"
  }
 },
 "nbformat": 4,
 "nbformat_minor": 2
}
